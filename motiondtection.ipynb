{
 "cells": [
  {
   "cell_type": "code",
   "execution_count": null,
   "id": "fe282c6f-f44d-4a60-b416-34130689119f",
   "metadata": {},
   "outputs": [],
   "source": [
    "import cv2\n",
    "import numpy as np\n",
    "\n",
    "\n",
    "user=\"admin\"\n",
    "pswd=\"admin123\"\n",
    "c_ip=\"192.168.1.73\"\n",
    "c_rtsp=\"554\"\n",
    "c_channel=\"1\"\n",
    "c_subtype=\"1\"\n",
    "link ='rtsp://'+ user +':'+ pswd +'@'+c_ip+':'+c_rtsp+'/cam/realmonitor?channel='+c_channel+'&subtype='+c_subtype\n",
    "cap = cv2.VideoCapture(link)\n",
    "\n",
    "\n",
    "# History, Threshold, DetectShadows \n",
    "# fgbg = cv2.createBackgroundSubtractorMOG2(50, 200, True)\n",
    "fgbg = cv2.createBackgroundSubtractorMOG2(300, 400, True)\n",
    "\n",
    "# Keeps track of what frame we're on\n",
    "frameCount = 0\n",
    "\n",
    "while(1):\n",
    "# Return Value and the current frame\n",
    "    ret, frame = cap.read()\n",
    "\n",
    "#  Check if a current frame actually exist\n",
    "if not ret:\n",
    "    break\n",
    "\n",
    "frameCount += 1\n",
    "# Resize the frame\n",
    "resizedFrame = cv2.resize(frame, (0, 0), fx=0.50, fy=0.50)\n",
    "\n",
    "# Get the foreground mask\n",
    "fgmask = fgbg.apply(resizedFrame)\n",
    "\n",
    "# Count all the non zero pixels within the mask\n",
    "count = np.count_nonzero(fgmask)\n",
    "\n",
    "print('Frame: %d, Pixel Count: %d' % (frameCount, count))\n",
    "\n",
    "# Determine how many pixels do you want to detect to be considered \"movement\"\n",
    "# if (frameCount > 1 and cou`nt > 5000):\n",
    "if (frameCount > 1 and count > 5000):\n",
    "    print('Someones stealing your honey')\n",
    "    cv2.putText(resizedFrame, 'Someones stealing your honey', (10, 50), cv2.FONT_HERSHEY_SIMPLEX, 1, (0, 0, 255), 2, cv2.LINE_AA)\n",
    "\n",
    "cv2.imshow('Frame', resizedFrame)\n",
    "cv2.imshow('Mask', fgmask)\n",
    "\n",
    "\n",
    "k = cv2.waitKey(10) & 0xff\n",
    "if k == 27:\n",
    "    break\n",
    "\n",
    "capture.release()\n",
    "cv2.destroyAllWindows()"
   ]
  },
  {
   "cell_type": "code",
   "execution_count": null,
   "id": "06356711-55b6-4d5d-8587-736a262d8cab",
   "metadata": {},
   "outputs": [],
   "source": []
  },
  {
   "cell_type": "code",
   "execution_count": null,
   "id": "ef7b99d6-cd66-4d1c-8593-414fd42b7a08",
   "metadata": {},
   "outputs": [],
   "source": []
  }
 ],
 "metadata": {
  "kernelspec": {
   "display_name": "Python 3 (ipykernel)",
   "language": "python",
   "name": "python3"
  },
  "language_info": {
   "codemirror_mode": {
    "name": "ipython",
    "version": 3
   },
   "file_extension": ".py",
   "mimetype": "text/x-python",
   "name": "python",
   "nbconvert_exporter": "python",
   "pygments_lexer": "ipython3",
   "version": "3.9.12"
  }
 },
 "nbformat": 4,
 "nbformat_minor": 5
}
